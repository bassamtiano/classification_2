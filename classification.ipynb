{
 "cells": [
  {
   "cell_type": "code",
   "execution_count": 10,
   "metadata": {},
   "outputs": [
    {
     "data": {
      "text/plain": [
       "<torch.utils.data.dataloader.DataLoader at 0x7f2838121420>"
      ]
     },
     "execution_count": 10,
     "metadata": {},
     "output_type": "execute_result"
    }
   ],
   "source": [
    "from torch.utils.data import DataLoader\n",
    "\n",
    "batch_size = 2\n",
    "\n",
    "def preprocessor(train_datasets, validation_datasets, test_datasets):\n",
    "    train_datasets = DataLoader(\n",
    "        dataset = train_datasets,\n",
    "        batch_size = batch_size,\n",
    "        shuffle=True,\n",
    "        num_workers = 4\n",
    "    )\n",
    "    \n",
    "    validation_datasets = DataLoader(\n",
    "        dataset = validation_datasets,\n",
    "        batch_size = batch_size,\n",
    "        num_workers = 4\n",
    "    )\n",
    "    \n",
    "    test_datasets = DataLoader(\n",
    "        dataset = test_datasets,\n",
    "        batch_size = batch_size,\n",
    "        num_workers = 4 \n",
    "    )\n",
    "    \n",
    "    return train_datasets, validation_datasets, test_datasets\n",
    "\n",
    "train_datasets, validation_datasets, test_datasets = preprocessor(train_dataset, validation_dataset, test_dataset)\n",
    "train_datasets"
   ]
  }
 ],
 "metadata": {
  "kernelspec": {
   "display_name": "text",
   "language": "python",
   "name": "python3"
  },
  "language_info": {
   "codemirror_mode": {
    "name": "ipython",
    "version": 3
   },
   "file_extension": ".py",
   "mimetype": "text/x-python",
   "name": "python",
   "nbconvert_exporter": "python",
   "pygments_lexer": "ipython3",
   "version": "3.10.8"
  },
  "orig_nbformat": 4,
  "vscode": {
   "interpreter": {
    "hash": "2a897da0134c4af538d8145dc3818d8156ca8f66c244eb9debe26b9ca43b0cc3"
   }
  }
 },
 "nbformat": 4,
 "nbformat_minor": 2
}
